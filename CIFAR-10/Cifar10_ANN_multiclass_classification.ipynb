{
 "cells": [
  {
   "cell_type": "code",
   "execution_count": 1,
   "metadata": {
    "colab": {
     "base_uri": "https://localhost:8080/"
    },
    "id": "CLyuvNC0vrVY",
    "outputId": "e34c193b-1731-46fa-aca4-31a3885bcbd6"
   },
   "outputs": [
    {
     "name": "stdout",
     "output_type": "stream",
     "text": [
      "2.9.2\n"
     ]
    }
   ],
   "source": [
    "# import tensorflow\n",
    "import tensorflow as tf \n",
    "print(tf.__version__)"
   ]
  },
  {
   "cell_type": "markdown",
   "metadata": {
    "id": "hni8mHgIv1KC"
   },
   "source": [
    "### Load Cifar-10 Dataset"
   ]
  },
  {
   "cell_type": "code",
   "execution_count": 2,
   "metadata": {
    "colab": {
     "base_uri": "https://localhost:8080/"
    },
    "id": "aK1YTuxrwOSL",
    "outputId": "87d5fad1-74b8-438e-df95-22c11878d00b"
   },
   "outputs": [
    {
     "name": "stdout",
     "output_type": "stream",
     "text": [
      "Downloading data from https://www.cs.toronto.edu/~kriz/cifar-10-python.tar.gz\n",
      "170498071/170498071 [==============================] - 2s 0us/step\n"
     ]
    }
   ],
   "source": [
    "from tensorflow.keras.datasets import cifar10 \n",
    "\n",
    "#training and test data \n",
    "(X_train, y_train), (X_test, y_test) = cifar10.load_data()"
   ]
  },
  {
   "cell_type": "code",
   "execution_count": 3,
   "metadata": {
    "colab": {
     "base_uri": "https://localhost:8080/"
    },
    "id": "Zu-heDQVwpXC",
    "outputId": "538c0c4d-af76-4dec-e6f6-1dcabe8ba959"
   },
   "outputs": [
    {
     "data": {
      "text/plain": [
       "(50000, 50000, 10000, 10000)"
      ]
     },
     "execution_count": 3,
     "metadata": {},
     "output_type": "execute_result"
    }
   ],
   "source": [
    "# view length of training and test data \n",
    "len(X_train), len(y_train), len(X_test), len(y_test)"
   ]
  },
  {
   "cell_type": "markdown",
   "metadata": {
    "id": "oEK3Dle2w51z"
   },
   "source": [
    "- there are 50000 training data and 10000 test data"
   ]
  },
  {
   "cell_type": "code",
   "execution_count": 4,
   "metadata": {
    "colab": {
     "base_uri": "https://localhost:8080/"
    },
    "id": "-O68o4mExlOB",
    "outputId": "bef10d3a-edb6-4d4e-ccb5-025c1c629306"
   },
   "outputs": [
    {
     "data": {
      "text/plain": [
       "(0, 255)"
      ]
     },
     "execution_count": 4,
     "metadata": {},
     "output_type": "execute_result"
    }
   ],
   "source": [
    "# check min and max values in training \n",
    "X_train.min(), X_train.max()"
   ]
  },
  {
   "cell_type": "code",
   "execution_count": 5,
   "metadata": {
    "colab": {
     "base_uri": "https://localhost:8080/"
    },
    "id": "lX9c-ylYxzqa",
    "outputId": "e6f1e986-515a-4a47-a8ff-de471a616099"
   },
   "outputs": [
    {
     "data": {
      "text/plain": [
       "(0, 255)"
      ]
     },
     "execution_count": 5,
     "metadata": {},
     "output_type": "execute_result"
    }
   ],
   "source": [
    "# check min and max values in testing data\n",
    "X_test.min(), X_test.max()"
   ]
  },
  {
   "cell_type": "code",
   "execution_count": 6,
   "metadata": {
    "colab": {
     "base_uri": "https://localhost:8080/"
    },
    "id": "Wd8ZFM7ryI8x",
    "outputId": "26c1faf6-ca94-4be4-c766-c64cef89b9c7"
   },
   "outputs": [
    {
     "data": {
      "text/plain": [
       "((32, 32, 3), (32, 32, 3))"
      ]
     },
     "execution_count": 6,
     "metadata": {},
     "output_type": "execute_result"
    }
   ],
   "source": [
    "# check the shape of the data \n",
    "X_train[0].shape, X_test[0].shape"
   ]
  },
  {
   "cell_type": "code",
   "execution_count": 7,
   "metadata": {
    "colab": {
     "base_uri": "https://localhost:8080/"
    },
    "id": "fmB8KWkp1ffn",
    "outputId": "109c21d1-ebfb-4852-bdbd-973b708dc6d3"
   },
   "outputs": [
    {
     "data": {
      "text/plain": [
       "10"
      ]
     },
     "execution_count": 7,
     "metadata": {},
     "output_type": "execute_result"
    }
   ],
   "source": [
    "# y_train and y_test labels names\n",
    "class_names = ['airplane', 'car', 'bird', 'cat', \n",
    "               'deer', 'dog', 'frog', 'horse', 'ship', 'truck']\n",
    "\n",
    "len(class_names)"
   ]
  },
  {
   "cell_type": "code",
   "execution_count": 8,
   "metadata": {
    "colab": {
     "base_uri": "https://localhost:8080/"
    },
    "id": "9qDIUtpI5TIw",
    "outputId": "580d5def-0971-4f3c-caaa-d90a958bd959"
   },
   "outputs": [
    {
     "data": {
      "text/plain": [
       "50000"
      ]
     },
     "execution_count": 8,
     "metadata": {},
     "output_type": "execute_result"
    }
   ],
   "source": [
    "len(X_train)"
   ]
  },
  {
   "cell_type": "code",
   "execution_count": 9,
   "metadata": {
    "colab": {
     "base_uri": "https://localhost:8080/"
    },
    "id": "dwoqk5T17cjh",
    "outputId": "3dd69053-3d1d-4d8d-955f-0e67e166d2bb"
   },
   "outputs": [
    {
     "data": {
      "text/plain": [
       "5"
      ]
     },
     "execution_count": 9,
     "metadata": {},
     "output_type": "execute_result"
    }
   ],
   "source": [
    "y_train[40][0]"
   ]
  },
  {
   "cell_type": "code",
   "execution_count": 10,
   "metadata": {
    "colab": {
     "base_uri": "https://localhost:8080/",
     "height": 482
    },
    "id": "9-ocQaYX3GYO",
    "outputId": "b47c8762-f04d-4a66-9041-249a755f498e"
   },
   "outputs": [
    {
     "data": {
      "image/png": "[encoded data removed]",
      "text/plain": [
       "<Figure size 576x576 with 4 Axes>"
      ]
     },
     "metadata": {
      "needs_background": "light"
     },
     "output_type": "display_data"
    }
   ],
   "source": [
    "# plot some random image \n",
    "import random \n",
    "import matplotlib.pyplot as plt\n",
    "plt.figure(figsize = (8, 8))\n",
    "for i in range(4):\n",
    "  plt.subplot(2, 2, i+1) \n",
    "  rand_index = random.choice(range(len(X_train)))\n",
    "  plt.imshow(X_train[rand_index], cmap = plt.cm.binary)\n",
    "  plt.title(class_names[y_train[rand_index][0]])\n",
    "  plt.axis(False)"
   ]
  },
  {
   "cell_type": "markdown",
   "metadata": {
    "id": "EMBkAzOAySQX"
   },
   "source": [
    "### Feature Engineering: Normalization\n",
    "\n",
    "Normalize the data to 0-1 by dividing it with the maximum number "
   ]
  },
  {
   "cell_type": "code",
   "execution_count": 11,
   "metadata": {
    "colab": {
     "base_uri": "https://localhost:8080/"
    },
    "id": "vxf9QVxrv58Z",
    "outputId": "7da55c6a-97af-4c35-db6e-0a99d104c032"
   },
   "outputs": [
    {
     "data": {
      "text/plain": [
       "(255, 255)"
      ]
     },
     "execution_count": 11,
     "metadata": {},
     "output_type": "execute_result"
    }
   ],
   "source": [
    "# train and test data maximum number\n",
    "X_train.max(), X_test.max()"
   ]
  },
  {
   "cell_type": "code",
   "execution_count": 14,
   "metadata": {
    "id": "z9w4cln2zsNh"
   },
   "outputs": [],
   "source": [
    "# Normalize data\n",
    "X_train_norm = X_train / 255.0 \n",
    "X_test_norm = X_test / 255.0"
   ]
  },
  {
   "cell_type": "code",
   "execution_count": 15,
   "metadata": {
    "colab": {
     "base_uri": "https://localhost:8080/"
    },
    "id": "ySViF-u20Od4",
    "outputId": "f879fec5-9e6a-4c81-fef6-00eb1ccca774"
   },
   "outputs": [
    {
     "data": {
      "text/plain": [
       "(0.0, 1.0)"
      ]
     },
     "execution_count": 15,
     "metadata": {},
     "output_type": "execute_result"
    }
   ],
   "source": [
    "# check min and max values of the normalized training data\n",
    "X_train_norm.min(), X_train_norm.max()"
   ]
  },
  {
   "cell_type": "code",
   "execution_count": 16,
   "metadata": {
    "colab": {
     "base_uri": "https://localhost:8080/"
    },
    "id": "RA-Wek7O0b3a",
    "outputId": "a6233c9a-d937-4e5d-8097-513184a2f45e"
   },
   "outputs": [
    {
     "data": {
      "text/plain": [
       "(0.0, 1.0)"
      ]
     },
     "execution_count": 16,
     "metadata": {},
     "output_type": "execute_result"
    }
   ],
   "source": [
    "# check min and max values of the normalized testing data\n",
    "X_test_norm.min(), X_test_norm.max()"
   ]
  },
  {
   "cell_type": "markdown",
   "metadata": {
    "id": "9JkEh2eY0kIq"
   },
   "source": [
    "### Build a Neural Networks Model"
   ]
  },
  {
   "cell_type": "code",
   "execution_count": 17,
   "metadata": {
    "colab": {
     "base_uri": "https://localhost:8080/"
    },
    "id": "rjI5IMX00zWs",
    "outputId": "2b7c1d68-8b0c-4f59-d1db-85be1b4353b7"
   },
   "outputs": [
    {
     "name": "stdout",
     "output_type": "stream",
     "text": [
      "Epoch 1/20\n",
      "1563/1563 [==============================] - 9s 5ms/step - loss: 1.9579 - accuracy: 0.2900 - val_loss: 1.8230 - val_accuracy: 0.3451 - lr: 1.0000e-04\n",
      "Epoch 2/20\n",
      "1563/1563 [==============================] - 8s 5ms/step - loss: 1.7819 - accuracy: 0.3639 - val_loss: 1.7279 - val_accuracy: 0.3784 - lr: 1.1220e-04\n",
      "Epoch 3/20\n",
      "1563/1563 [==============================] - 9s 6ms/step - loss: 1.7078 - accuracy: 0.3929 - val_loss: 1.7081 - val_accuracy: 0.3998 - lr: 1.2589e-04\n",
      "Epoch 4/20\n",
      "1563/1563 [==============================] - 8s 5ms/step - loss: 1.6568 - accuracy: 0.4125 - val_loss: 1.6406 - val_accuracy: 0.4190 - lr: 1.4125e-04\n",
      "Epoch 5/20\n",
      "1563/1563 [==============================] - 10s 6ms/step - loss: 1.6173 - accuracy: 0.4261 - val_loss: 1.5987 - val_accuracy: 0.4335 - lr: 1.5849e-04\n",
      "Epoch 6/20\n",
      "1563/1563 [==============================] - 9s 6ms/step - loss: 1.5867 - accuracy: 0.4382 - val_loss: 1.5730 - val_accuracy: 0.4455 - lr: 1.7783e-04\n",
      "Epoch 7/20\n",
      "1563/1563 [==============================] - 9s 6ms/step - loss: 1.5650 - accuracy: 0.4451 - val_loss: 1.5572 - val_accuracy: 0.4501 - lr: 1.9953e-04\n",
      "Epoch 8/20\n",
      "1563/1563 [==============================] - 9s 6ms/step - loss: 1.5435 - accuracy: 0.4535 - val_loss: 1.5561 - val_accuracy: 0.4455 - lr: 2.2387e-04\n",
      "Epoch 9/20\n",
      "1563/1563 [==============================] - 9s 6ms/step - loss: 1.5276 - accuracy: 0.4560 - val_loss: 1.5223 - val_accuracy: 0.4585 - lr: 2.5119e-04\n",
      "Epoch 10/20\n",
      "1563/1563 [==============================] - 9s 6ms/step - loss: 1.5098 - accuracy: 0.4629 - val_loss: 1.5389 - val_accuracy: 0.4547 - lr: 2.8184e-04\n",
      "Epoch 11/20\n",
      "1563/1563 [==============================] - 9s 6ms/step - loss: 1.4986 - accuracy: 0.4648 - val_loss: 1.5038 - val_accuracy: 0.4617 - lr: 3.1623e-04\n",
      "Epoch 12/20\n",
      "1563/1563 [==============================] - 8s 5ms/step - loss: 1.4944 - accuracy: 0.4677 - val_loss: 1.5672 - val_accuracy: 0.4397 - lr: 3.5481e-04\n",
      "Epoch 13/20\n",
      "1563/1563 [==============================] - 9s 6ms/step - loss: 1.4810 - accuracy: 0.4724 - val_loss: 1.4868 - val_accuracy: 0.4736 - lr: 3.9811e-04\n",
      "Epoch 14/20\n",
      "1563/1563 [==============================] - 9s 6ms/step - loss: 1.4714 - accuracy: 0.4758 - val_loss: 1.5192 - val_accuracy: 0.4556 - lr: 4.4668e-04\n",
      "Epoch 15/20\n",
      "1563/1563 [==============================] - 9s 6ms/step - loss: 1.4693 - accuracy: 0.4760 - val_loss: 1.5120 - val_accuracy: 0.4602 - lr: 5.0119e-04\n",
      "Epoch 16/20\n",
      "1563/1563 [==============================] - 9s 6ms/step - loss: 1.4710 - accuracy: 0.4764 - val_loss: 1.5215 - val_accuracy: 0.4563 - lr: 5.6234e-04\n",
      "Epoch 17/20\n",
      "1563/1563 [==============================] - 8s 5ms/step - loss: 1.4611 - accuracy: 0.4792 - val_loss: 1.5457 - val_accuracy: 0.4633 - lr: 6.3096e-04\n",
      "Epoch 18/20\n",
      "1563/1563 [==============================] - 9s 6ms/step - loss: 1.4629 - accuracy: 0.4785 - val_loss: 1.4926 - val_accuracy: 0.4671 - lr: 7.0795e-04\n",
      "Epoch 19/20\n",
      "1563/1563 [==============================] - 9s 6ms/step - loss: 1.4601 - accuracy: 0.4790 - val_loss: 1.5605 - val_accuracy: 0.4522 - lr: 7.9433e-04\n",
      "Epoch 20/20\n",
      "1563/1563 [==============================] - 9s 6ms/step - loss: 1.4619 - accuracy: 0.4793 - val_loss: 1.5387 - val_accuracy: 0.4506 - lr: 8.9125e-04\n"
     ]
    }
   ],
   "source": [
    "# set random seed \n",
    "tf.random.set_seed(42)\n",
    "\n",
    "# 1. create a model \n",
    "cifar_10 = tf.keras.Sequential([\n",
    "    tf.keras.layers.Flatten(input_shape = (32, 32, 3)), \n",
    "    tf.keras.layers.Dense(50, activation = 'relu'),\n",
    "    tf.keras.layers.Dense(50, activation = 'relu'),\n",
    "    tf.keras.layers.Dense(50, activation = 'relu'),\n",
    "    tf.keras.layers.Dense(10, activation = 'softmax'),\n",
    "]) \n",
    "\n",
    "# 2. compile the model \n",
    "cifar_10.compile(loss = tf.keras.losses.SparseCategoricalCrossentropy(), \n",
    "                optimizer = tf.keras.optimizers.Adam(), \n",
    "                metrics = ['accuracy'])\n",
    "\n",
    "# 3. find the ideal learning rate \n",
    "lr_scheduler = tf.keras.callbacks.LearningRateScheduler(lambda epoch: 1e-4 * 10**(epoch/20))\n",
    "\n",
    "# 3. fit the model \n",
    "history_c = cifar_10.fit(tf.expand_dims(X_train_norm, axis = -1), \n",
    "                         y_train, epochs = 20, \n",
    "                         validation_data = (X_test_norm, y_test), \n",
    "                         callbacks = [lr_scheduler])"
   ]
  },
  {
   "cell_type": "code",
   "execution_count": 18,
   "metadata": {
    "colab": {
     "base_uri": "https://localhost:8080/"
    },
    "id": "0B6ndxzG-fj0",
    "outputId": "11ad073b-005f-4606-b370-e5259afc8da6"
   },
   "outputs": [
    {
     "name": "stdout",
     "output_type": "stream",
     "text": [
      "Epoch 1/20\n",
      "1563/1563 [==============================] - 12s 7ms/step - loss: 1.9104 - accuracy: 0.3113 - val_loss: 1.7668 - val_accuracy: 0.3677 - lr: 1.0000e-04\n",
      "Epoch 2/20\n",
      "1563/1563 [==============================] - 9s 6ms/step - loss: 1.7283 - accuracy: 0.3821 - val_loss: 1.6618 - val_accuracy: 0.4032 - lr: 1.1220e-04\n",
      "Epoch 3/20\n",
      "1563/1563 [==============================] - 9s 6ms/step - loss: 1.6471 - accuracy: 0.4125 - val_loss: 1.6401 - val_accuracy: 0.4178 - lr: 1.2589e-04\n",
      "Epoch 4/20\n",
      "1563/1563 [==============================] - 10s 6ms/step - loss: 1.5927 - accuracy: 0.4306 - val_loss: 1.6055 - val_accuracy: 0.4326 - lr: 1.4125e-04\n",
      "Epoch 5/20\n",
      "1563/1563 [==============================] - 9s 5ms/step - loss: 1.5494 - accuracy: 0.4490 - val_loss: 1.5418 - val_accuracy: 0.4482 - lr: 1.5849e-04\n",
      "Epoch 6/20\n",
      "1563/1563 [==============================] - 9s 6ms/step - loss: 1.5182 - accuracy: 0.4586 - val_loss: 1.5101 - val_accuracy: 0.4620 - lr: 1.7783e-04\n",
      "Epoch 7/20\n",
      "1563/1563 [==============================] - 9s 6ms/step - loss: 1.4989 - accuracy: 0.4639 - val_loss: 1.4980 - val_accuracy: 0.4645 - lr: 1.9953e-04\n",
      "Epoch 8/20\n",
      "1563/1563 [==============================] - 9s 6ms/step - loss: 1.4805 - accuracy: 0.4748 - val_loss: 1.5158 - val_accuracy: 0.4553 - lr: 2.2387e-04\n",
      "Epoch 9/20\n",
      "1563/1563 [==============================] - 9s 5ms/step - loss: 1.4669 - accuracy: 0.4772 - val_loss: 1.5038 - val_accuracy: 0.4635 - lr: 2.5119e-04\n",
      "Epoch 10/20\n",
      "1563/1563 [==============================] - 8s 5ms/step - loss: 1.4495 - accuracy: 0.4824 - val_loss: 1.5152 - val_accuracy: 0.4584 - lr: 2.8184e-04\n",
      "Epoch 11/20\n",
      "1563/1563 [==============================] - 9s 6ms/step - loss: 1.4375 - accuracy: 0.4868 - val_loss: 1.4653 - val_accuracy: 0.4830 - lr: 3.1623e-04\n",
      "Epoch 12/20\n",
      "1563/1563 [==============================] - 10s 6ms/step - loss: 1.4301 - accuracy: 0.4917 - val_loss: 1.4859 - val_accuracy: 0.4722 - lr: 3.5481e-04\n",
      "Epoch 13/20\n",
      "1563/1563 [==============================] - 9s 6ms/step - loss: 1.4228 - accuracy: 0.4908 - val_loss: 1.4670 - val_accuracy: 0.4763 - lr: 3.9811e-04\n",
      "Epoch 14/20\n",
      "1563/1563 [==============================] - 9s 6ms/step - loss: 1.4111 - accuracy: 0.4958 - val_loss: 1.4565 - val_accuracy: 0.4778 - lr: 4.4668e-04\n",
      "Epoch 15/20\n",
      "1563/1563 [==============================] - 9s 6ms/step - loss: 1.4136 - accuracy: 0.4941 - val_loss: 1.5138 - val_accuracy: 0.4630 - lr: 5.0119e-04\n",
      "Epoch 16/20\n",
      "1563/1563 [==============================] - 9s 6ms/step - loss: 1.4115 - accuracy: 0.4957 - val_loss: 1.4560 - val_accuracy: 0.4866 - lr: 5.6234e-04\n",
      "Epoch 17/20\n",
      "1563/1563 [==============================] - 9s 6ms/step - loss: 1.4024 - accuracy: 0.4979 - val_loss: 1.4961 - val_accuracy: 0.4720 - lr: 6.3096e-04\n",
      "Epoch 18/20\n",
      "1563/1563 [==============================] - 9s 6ms/step - loss: 1.3960 - accuracy: 0.5000 - val_loss: 1.4960 - val_accuracy: 0.4713 - lr: 7.0795e-04\n",
      "Epoch 19/20\n",
      "1563/1563 [==============================] - 9s 6ms/step - loss: 1.4031 - accuracy: 0.4988 - val_loss: 1.5356 - val_accuracy: 0.4556 - lr: 7.9433e-04\n",
      "Epoch 20/20\n",
      "1563/1563 [==============================] - 9s 6ms/step - loss: 1.4019 - accuracy: 0.4977 - val_loss: 1.5600 - val_accuracy: 0.4499 - lr: 8.9125e-04\n"
     ]
    }
   ],
   "source": [
    "# Build a model with increase hidden layers \n",
    "# set random seed \n",
    "tf.random.set_seed(42)\n",
    "\n",
    "# 1. create a model \n",
    "cifar_11 = tf.keras.Sequential([\n",
    "    tf.keras.layers.Flatten(input_shape = (32, 32, 3)), \n",
    "    tf.keras.layers.Dense(80, activation = 'relu'),\n",
    "    tf.keras.layers.Dense(80, activation = 'relu'),\n",
    "    tf.keras.layers.Dense(80, activation = 'relu'),\n",
    "    tf.keras.layers.Dense(80, activation = 'relu'),\n",
    "    tf.keras.layers.Dense(10, activation = 'softmax'),\n",
    "]) \n",
    "\n",
    "# 2. compile the model \n",
    "cifar_11.compile(loss = tf.keras.losses.SparseCategoricalCrossentropy(), \n",
    "                optimizer = tf.keras.optimizers.Adam(), \n",
    "                metrics = ['accuracy'])\n",
    "\n",
    "# 3. find the ideal learning rate \n",
    "lr_scheduler = tf.keras.callbacks.LearningRateScheduler(lambda epoch: 1e-4 * 10**(epoch/20))\n",
    "\n",
    "# 3. fit the model \n",
    "history_cc = cifar_11.fit(tf.expand_dims(X_train_norm, axis = -1), \n",
    "                         y_train, epochs = 20, \n",
    "                         validation_data = (X_test_norm, y_test), \n",
    "                         callbacks = [lr_scheduler])"
   ]
  },
  {
   "cell_type": "code",
   "execution_count": null,
   "metadata": {
    "id": "Rx7peCe00DHa"
   },
   "outputs": [],
   "source": []
  },
  {
   "cell_type": "code",
   "execution_count": 19,
   "metadata": {
    "colab": {
     "base_uri": "https://localhost:8080/"
    },
    "id": "dID2W-38x-Ri",
    "outputId": "01720a1d-b9df-4373-8bc7-3660da142a84"
   },
   "outputs": [
    {
     "name": "stdout",
     "output_type": "stream",
     "text": [
      "Epoch 1/20\n",
      "1563/1563 [==============================] - 43s 27ms/step - loss: 1.7967 - accuracy: 0.3528 - val_loss: 1.6330 - val_accuracy: 0.4213 - lr: 1.0000e-04\n",
      "Epoch 2/20\n",
      "1563/1563 [==============================] - 40s 26ms/step - loss: 1.6007 - accuracy: 0.4279 - val_loss: 1.5538 - val_accuracy: 0.4459 - lr: 1.1220e-04\n",
      "Epoch 3/20\n",
      "1563/1563 [==============================] - 40s 26ms/step - loss: 1.5225 - accuracy: 0.4537 - val_loss: 1.5026 - val_accuracy: 0.4688 - lr: 1.2589e-04\n",
      "Epoch 4/20\n",
      "1563/1563 [==============================] - 41s 26ms/step - loss: 1.4667 - accuracy: 0.4755 - val_loss: 1.4929 - val_accuracy: 0.4637 - lr: 1.4125e-04\n",
      "Epoch 5/20\n",
      "1563/1563 [==============================] - 40s 26ms/step - loss: 1.4232 - accuracy: 0.4920 - val_loss: 1.4582 - val_accuracy: 0.4815 - lr: 1.5849e-04\n",
      "Epoch 6/20\n",
      "1563/1563 [==============================] - 42s 27ms/step - loss: 1.3869 - accuracy: 0.5033 - val_loss: 1.4267 - val_accuracy: 0.4936 - lr: 1.7783e-04\n",
      "Epoch 7/20\n",
      "1563/1563 [==============================] - 41s 26ms/step - loss: 1.3528 - accuracy: 0.5146 - val_loss: 1.4186 - val_accuracy: 0.4938 - lr: 1.9953e-04\n",
      "Epoch 8/20\n",
      "1563/1563 [==============================] - 43s 27ms/step - loss: 1.3258 - accuracy: 0.5266 - val_loss: 1.3841 - val_accuracy: 0.5061 - lr: 2.2387e-04\n",
      "Epoch 9/20\n",
      "1563/1563 [==============================] - 41s 26ms/step - loss: 1.2989 - accuracy: 0.5358 - val_loss: 1.3849 - val_accuracy: 0.5078 - lr: 2.5119e-04\n",
      "Epoch 10/20\n",
      "1563/1563 [==============================] - 41s 26ms/step - loss: 1.2789 - accuracy: 0.5399 - val_loss: 1.4551 - val_accuracy: 0.4880 - lr: 2.8184e-04\n",
      "Epoch 11/20\n",
      "1563/1563 [==============================] - 40s 26ms/step - loss: 1.2490 - accuracy: 0.5528 - val_loss: 1.3852 - val_accuracy: 0.5092 - lr: 3.1623e-04\n",
      "Epoch 12/20\n",
      "1563/1563 [==============================] - 41s 26ms/step - loss: 1.2293 - accuracy: 0.5596 - val_loss: 1.3950 - val_accuracy: 0.5085 - lr: 3.5481e-04\n",
      "Epoch 13/20\n",
      "1563/1563 [==============================] - 42s 27ms/step - loss: 1.2149 - accuracy: 0.5646 - val_loss: 1.3814 - val_accuracy: 0.5178 - lr: 3.9811e-04\n",
      "Epoch 14/20\n",
      "1563/1563 [==============================] - 40s 26ms/step - loss: 1.2035 - accuracy: 0.5657 - val_loss: 1.4068 - val_accuracy: 0.5068 - lr: 4.4668e-04\n",
      "Epoch 15/20\n",
      "1563/1563 [==============================] - 40s 26ms/step - loss: 1.1956 - accuracy: 0.5677 - val_loss: 1.4121 - val_accuracy: 0.5129 - lr: 5.0119e-04\n",
      "Epoch 16/20\n",
      "1563/1563 [==============================] - 43s 27ms/step - loss: 1.1926 - accuracy: 0.5726 - val_loss: 1.4030 - val_accuracy: 0.5192 - lr: 5.6234e-04\n",
      "Epoch 17/20\n",
      "1563/1563 [==============================] - 41s 26ms/step - loss: 1.1912 - accuracy: 0.5703 - val_loss: 1.4277 - val_accuracy: 0.5154 - lr: 6.3096e-04\n",
      "Epoch 18/20\n",
      "1563/1563 [==============================] - 41s 26ms/step - loss: 1.1996 - accuracy: 0.5695 - val_loss: 1.4370 - val_accuracy: 0.5043 - lr: 7.0795e-04\n",
      "Epoch 19/20\n",
      "1563/1563 [==============================] - 42s 27ms/step - loss: 1.2137 - accuracy: 0.5626 - val_loss: 1.5226 - val_accuracy: 0.4788 - lr: 7.9433e-04\n",
      "Epoch 20/20\n",
      "1563/1563 [==============================] - 41s 26ms/step - loss: 1.2284 - accuracy: 0.5591 - val_loss: 1.5397 - val_accuracy: 0.4722 - lr: 8.9125e-04\n"
     ]
    }
   ],
   "source": [
    "# Build a model with increase hidden layers \n",
    "# set random seed \n",
    "tf.random.set_seed(42)\n",
    "\n",
    "# 1. create a model \n",
    "cifar_11 = tf.keras.Sequential([\n",
    "    tf.keras.layers.Flatten(input_shape = (32, 32, 3)), \n",
    "    tf.keras.layers.Dense(530, activation = 'relu'),\n",
    "    tf.keras.layers.Dense(500, activation = 'relu'),\n",
    "    tf.keras.layers.Dense(520, activation = 'relu'),\n",
    "    tf.keras.layers.Dense(490, activation = 'relu'),\n",
    "    tf.keras.layers.Dense(10, activation = 'softmax'),\n",
    "]) \n",
    "\n",
    "# 2. compile the model \n",
    "cifar_11.compile(loss = tf.keras.losses.SparseCategoricalCrossentropy(), \n",
    "                optimizer = tf.keras.optimizers.Adam(), \n",
    "                metrics = ['accuracy'])\n",
    "\n",
    "# 3. find the ideal learning rate \n",
    "lr_scheduler = tf.keras.callbacks.LearningRateScheduler(lambda epoch: 1e-4 * 10**(epoch/20))\n",
    "\n",
    "# 3. fit the model \n",
    "history_cc = cifar_11.fit(tf.expand_dims(X_train_norm, axis = -1), \n",
    "                         y_train, epochs = 20, \n",
    "                         validation_data = (X_test_norm, y_test), \n",
    "                         callbacks = [lr_scheduler])"
   ]
  },
  {
   "cell_type": "code",
   "execution_count": 21,
   "metadata": {
    "colab": {
     "base_uri": "https://localhost:8080/"
    },
    "id": "pb4MMhBaEfzo",
    "outputId": "43c003ac-047d-408c-dc28-a07e9ab8901a"
   },
   "outputs": [
    {
     "name": "stdout",
     "output_type": "stream",
     "text": [
      "Model: \"sequential_2\"\n",
      "_________________________________________________________________\n",
      " Layer (type)                Output Shape              Param #   \n",
      "=================================================================\n",
      " flatten_2 (Flatten)         (None, 3072)              0         \n",
      "                                                                 \n",
      " dense_9 (Dense)             (None, 530)               1628690   \n",
      "                                                                 \n",
      " dense_10 (Dense)            (None, 500)               265500    \n",
      "                                                                 \n",
      " dense_11 (Dense)            (None, 520)               260520    \n",
      "                                                                 \n",
      " dense_12 (Dense)            (None, 490)               255290    \n",
      "                                                                 \n",
      " dense_13 (Dense)            (None, 10)                4910      \n",
      "                                                                 \n",
      "=================================================================\n",
      "Total params: 2,414,910\n",
      "Trainable params: 2,414,910\n",
      "Non-trainable params: 0\n",
      "_________________________________________________________________\n"
     ]
    }
   ],
   "source": [
    "cifar_11.summary()"
   ]
  },
  {
   "cell_type": "code",
   "execution_count": 28,
   "metadata": {
    "colab": {
     "base_uri": "https://localhost:8080/"
    },
    "id": "rRUJ-fsI-BRE",
    "outputId": "0edaa304-bf8d-4d7b-cf19-0f4300417abc"
   },
   "outputs": [
    {
     "name": "stdout",
     "output_type": "stream",
     "text": [
      "Epoch 1/20\n",
      "1563/1563 [==============================] - 58s 36ms/step - loss: 1.7973 - accuracy: 0.3501 - val_loss: 1.6686 - val_accuracy: 0.4076 - lr: 1.0000e-04\n",
      "Epoch 2/20\n",
      "1563/1563 [==============================] - 55s 35ms/step - loss: 1.6072 - accuracy: 0.4255 - val_loss: 1.5446 - val_accuracy: 0.4462 - lr: 1.1220e-04\n",
      "Epoch 3/20\n",
      "1563/1563 [==============================] - 55s 35ms/step - loss: 1.5246 - accuracy: 0.4550 - val_loss: 1.5143 - val_accuracy: 0.4650 - lr: 1.2589e-04\n",
      "Epoch 4/20\n",
      "1563/1563 [==============================] - 55s 35ms/step - loss: 1.4667 - accuracy: 0.4756 - val_loss: 1.4988 - val_accuracy: 0.4625 - lr: 1.4125e-04\n",
      "Epoch 5/20\n",
      "1563/1563 [==============================] - 57s 37ms/step - loss: 1.4216 - accuracy: 0.4946 - val_loss: 1.4901 - val_accuracy: 0.4692 - lr: 1.5849e-04\n",
      "Epoch 6/20\n",
      "1563/1563 [==============================] - 59s 38ms/step - loss: 1.3839 - accuracy: 0.5064 - val_loss: 1.4129 - val_accuracy: 0.5006 - lr: 1.7783e-04\n",
      "Epoch 7/20\n",
      "1563/1563 [==============================] - 56s 36ms/step - loss: 1.3490 - accuracy: 0.5206 - val_loss: 1.4059 - val_accuracy: 0.5035 - lr: 1.9953e-04\n",
      "Epoch 8/20\n",
      "1563/1563 [==============================] - 55s 35ms/step - loss: 1.3186 - accuracy: 0.5294 - val_loss: 1.4330 - val_accuracy: 0.4863 - lr: 2.2387e-04\n",
      "Epoch 9/20\n",
      "1563/1563 [==============================] - 57s 37ms/step - loss: 1.2931 - accuracy: 0.5370 - val_loss: 1.3905 - val_accuracy: 0.5015 - lr: 2.5119e-04\n",
      "Epoch 10/20\n",
      "1563/1563 [==============================] - 54s 35ms/step - loss: 1.2678 - accuracy: 0.5442 - val_loss: 1.4087 - val_accuracy: 0.5030 - lr: 2.8184e-04\n",
      "Epoch 11/20\n",
      "1563/1563 [==============================] - 57s 36ms/step - loss: 1.2446 - accuracy: 0.5541 - val_loss: 1.3780 - val_accuracy: 0.5115 - lr: 3.1623e-04\n",
      "Epoch 12/20\n",
      "1563/1563 [==============================] - 56s 36ms/step - loss: 1.2246 - accuracy: 0.5605 - val_loss: 1.4344 - val_accuracy: 0.5095 - lr: 3.5481e-04\n",
      "Epoch 13/20\n",
      "1563/1563 [==============================] - 54s 35ms/step - loss: 1.2082 - accuracy: 0.5685 - val_loss: 1.3532 - val_accuracy: 0.5233 - lr: 3.9811e-04\n",
      "Epoch 14/20\n",
      "1563/1563 [==============================] - 55s 35ms/step - loss: 1.1929 - accuracy: 0.5727 - val_loss: 1.4245 - val_accuracy: 0.4972 - lr: 4.4668e-04\n",
      "Epoch 15/20\n",
      "1563/1563 [==============================] - 53s 34ms/step - loss: 1.1902 - accuracy: 0.5749 - val_loss: 1.4194 - val_accuracy: 0.5089 - lr: 5.0119e-04\n",
      "Epoch 16/20\n",
      "1563/1563 [==============================] - 54s 35ms/step - loss: 1.1796 - accuracy: 0.5772 - val_loss: 1.4726 - val_accuracy: 0.4989 - lr: 5.6234e-04\n",
      "Epoch 17/20\n",
      "1563/1563 [==============================] - 55s 35ms/step - loss: 1.1823 - accuracy: 0.5756 - val_loss: 1.4840 - val_accuracy: 0.4988 - lr: 6.3096e-04\n",
      "Epoch 18/20\n",
      "1563/1563 [==============================] - 58s 37ms/step - loss: 1.1833 - accuracy: 0.5757 - val_loss: 1.4993 - val_accuracy: 0.4873 - lr: 7.0795e-04\n",
      "Epoch 19/20\n",
      "1563/1563 [==============================] - 54s 34ms/step - loss: 1.2000 - accuracy: 0.5687 - val_loss: 1.5239 - val_accuracy: 0.4885 - lr: 7.9433e-04\n",
      "Epoch 20/20\n",
      "1563/1563 [==============================] - 55s 35ms/step - loss: 1.2158 - accuracy: 0.5660 - val_loss: 1.4669 - val_accuracy: 0.4966 - lr: 8.9125e-04\n"
     ]
    }
   ],
   "source": [
    "# Build a model with increase hidden layers \n",
    "# set random seed \n",
    "tf.random.set_seed(42)\n",
    "\n",
    "# 1. create a model \n",
    "cifar_11 = tf.keras.Sequential([\n",
    "    tf.keras.layers.Flatten(input_shape = (32, 32, 3)), \n",
    "    tf.keras.layers.Dense(750, activation = 'relu'),\n",
    "    tf.keras.layers.Dense(650, activation = 'relu'),\n",
    "    tf.keras.layers.Dense(550, activation = 'relu'),\n",
    "    tf.keras.layers.Dense(450, activation = 'relu'),\n",
    "    tf.keras.layers.Dense(10, activation = 'softmax'),\n",
    "]) \n",
    "\n",
    "# 2. compile the model \n",
    "cifar_11.compile(loss = tf.keras.losses.SparseCategoricalCrossentropy(), \n",
    "                optimizer = tf.keras.optimizers.Adam(), \n",
    "                metrics = ['accuracy'])\n",
    "\n",
    "# 3. find the ideal learning rate \n",
    "lr_scheduler = tf.keras.callbacks.LearningRateScheduler(lambda epoch: 1e-4 * 10**(epoch/20))\n",
    "\n",
    "# 3. fit the model \n",
    "history_cc = cifar_11.fit(tf.expand_dims(X_train_norm, axis = -1), \n",
    "                         y_train, epochs = 20, \n",
    "                         validation_data = (X_test_norm, y_test), \n",
    "                         callbacks = [lr_scheduler])"
   ]
  },
  {
   "cell_type": "code",
   "execution_count": 29,
   "metadata": {
    "colab": {
     "base_uri": "https://localhost:8080/"
    },
    "id": "slb8VVqtUYkS",
    "outputId": "76de89b9-2c63-4f24-ba33-f4cc15f20467"
   },
   "outputs": [
    {
     "name": "stdout",
     "output_type": "stream",
     "text": [
      "313/313 [==============================] - 4s 13ms/step - loss: 1.4669 - accuracy: 0.4966\n"
     ]
    },
    {
     "data": {
      "text/plain": [
       "[1.4668903350830078, 0.4966000020503998]"
      ]
     },
     "execution_count": 29,
     "metadata": {},
     "output_type": "execute_result"
    }
   ],
   "source": [
    "cifar_11.evaluate(X_test_norm, y_test)"
   ]
  },
  {
   "cell_type": "markdown",
   "metadata": {
    "id": "GwZCsknf7exG"
   },
   "source": [
    "# Build another model \n",
    "- Increase the number of hidden neurons to 2500 \n",
    "- Increase the number of epochs to 30"
   ]
  },
  {
   "cell_type": "code",
   "execution_count": 45,
   "metadata": {
    "colab": {
     "base_uri": "https://localhost:8080/"
    },
    "id": "9kIxZ0ac86bj",
    "outputId": "996140a3-ce9a-4c93-d65e-4a45ffa6f008"
   },
   "outputs": [
    {
     "name": "stdout",
     "output_type": "stream",
     "text": [
      "Epoch 1/30\n",
      "1563/1563 [==============================] - 69s 44ms/step - loss: 1.8011 - accuracy: 0.3519 - val_loss: 1.6492 - val_accuracy: 0.4112 - lr: 1.0000e-04\n",
      "Epoch 2/30\n",
      "1563/1563 [==============================] - 67s 43ms/step - loss: 1.6089 - accuracy: 0.4254 - val_loss: 1.5496 - val_accuracy: 0.4490 - lr: 1.1220e-04\n",
      "Epoch 3/30\n",
      "1563/1563 [==============================] - 64s 41ms/step - loss: 1.5256 - accuracy: 0.4520 - val_loss: 1.5341 - val_accuracy: 0.4606 - lr: 1.2589e-04\n",
      "Epoch 4/30\n",
      "1563/1563 [==============================] - 64s 41ms/step - loss: 1.4688 - accuracy: 0.4756 - val_loss: 1.4718 - val_accuracy: 0.4782 - lr: 1.4125e-04\n",
      "Epoch 5/30\n",
      "1563/1563 [==============================] - 66s 42ms/step - loss: 1.4261 - accuracy: 0.4911 - val_loss: 1.4746 - val_accuracy: 0.4678 - lr: 1.5849e-04\n",
      "Epoch 6/30\n",
      "1563/1563 [==============================] - 63s 40ms/step - loss: 1.3900 - accuracy: 0.5023 - val_loss: 1.4171 - val_accuracy: 0.4979 - lr: 1.7783e-04\n",
      "Epoch 7/30\n",
      "1563/1563 [==============================] - 65s 42ms/step - loss: 1.3532 - accuracy: 0.5160 - val_loss: 1.3917 - val_accuracy: 0.5042 - lr: 1.9953e-04\n",
      "Epoch 8/30\n",
      "1563/1563 [==============================] - 64s 41ms/step - loss: 1.3253 - accuracy: 0.5269 - val_loss: 1.4171 - val_accuracy: 0.4937 - lr: 2.2387e-04\n",
      "Epoch 9/30\n",
      "1563/1563 [==============================] - 63s 40ms/step - loss: 1.3022 - accuracy: 0.5328 - val_loss: 1.3918 - val_accuracy: 0.5065 - lr: 2.5119e-04\n",
      "Epoch 10/30\n",
      "1563/1563 [==============================] - 64s 41ms/step - loss: 1.2769 - accuracy: 0.5414 - val_loss: 1.4142 - val_accuracy: 0.4962 - lr: 2.8184e-04\n",
      "Epoch 11/30\n",
      "1563/1563 [==============================] - 64s 41ms/step - loss: 1.2525 - accuracy: 0.5527 - val_loss: 1.3739 - val_accuracy: 0.5112 - lr: 3.1623e-04\n",
      "Epoch 12/30\n",
      "1563/1563 [==============================] - 64s 41ms/step - loss: 1.2367 - accuracy: 0.5570 - val_loss: 1.4279 - val_accuracy: 0.5061 - lr: 3.5481e-04\n",
      "Epoch 13/30\n",
      "1563/1563 [==============================] - 64s 41ms/step - loss: 1.2219 - accuracy: 0.5628 - val_loss: 1.3562 - val_accuracy: 0.5267 - lr: 3.9811e-04\n",
      "Epoch 14/30\n",
      "1563/1563 [==============================] - 63s 40ms/step - loss: 1.2038 - accuracy: 0.5705 - val_loss: 1.4193 - val_accuracy: 0.5025 - lr: 4.4668e-04\n",
      "Epoch 15/30\n",
      "1563/1563 [==============================] - 63s 40ms/step - loss: 1.1964 - accuracy: 0.5706 - val_loss: 1.3955 - val_accuracy: 0.5155 - lr: 5.0119e-04\n",
      "Epoch 16/30\n",
      "1563/1563 [==============================] - 62s 40ms/step - loss: 1.1919 - accuracy: 0.5736 - val_loss: 1.3943 - val_accuracy: 0.5182 - lr: 5.6234e-04\n",
      "Epoch 17/30\n",
      "1563/1563 [==============================] - 64s 41ms/step - loss: 1.1849 - accuracy: 0.5745 - val_loss: 1.4425 - val_accuracy: 0.5119 - lr: 6.3096e-04\n",
      "Epoch 18/30\n",
      "1563/1563 [==============================] - 63s 41ms/step - loss: 1.1948 - accuracy: 0.5716 - val_loss: 1.4263 - val_accuracy: 0.5059 - lr: 7.0795e-04\n",
      "Epoch 19/30\n",
      "1563/1563 [==============================] - 62s 40ms/step - loss: 1.2020 - accuracy: 0.5681 - val_loss: 1.4317 - val_accuracy: 0.5085 - lr: 7.9433e-04\n",
      "Epoch 20/30\n",
      "1563/1563 [==============================] - 63s 40ms/step - loss: 1.2269 - accuracy: 0.5611 - val_loss: 1.4982 - val_accuracy: 0.4829 - lr: 8.9125e-04\n",
      "Epoch 21/30\n",
      "1563/1563 [==============================] - 62s 40ms/step - loss: 1.2444 - accuracy: 0.5550 - val_loss: 1.5351 - val_accuracy: 0.4790 - lr: 0.0010\n",
      "Epoch 22/30\n",
      "1563/1563 [==============================] - 63s 41ms/step - loss: 1.2693 - accuracy: 0.5493 - val_loss: 1.5164 - val_accuracy: 0.4932 - lr: 0.0011\n",
      "Epoch 23/30\n",
      "1563/1563 [==============================] - 64s 41ms/step - loss: 1.3124 - accuracy: 0.5315 - val_loss: 1.4717 - val_accuracy: 0.4867 - lr: 0.0013\n",
      "Epoch 24/30\n",
      "1563/1563 [==============================] - 64s 41ms/step - loss: 1.3379 - accuracy: 0.5256 - val_loss: 1.5226 - val_accuracy: 0.4747 - lr: 0.0014\n",
      "Epoch 25/30\n",
      "1563/1563 [==============================] - 65s 42ms/step - loss: 1.3790 - accuracy: 0.5141 - val_loss: 1.5101 - val_accuracy: 0.4799 - lr: 0.0016\n",
      "Epoch 26/30\n",
      "1563/1563 [==============================] - 62s 40ms/step - loss: 1.4034 - accuracy: 0.5048 - val_loss: 1.5312 - val_accuracy: 0.4612 - lr: 0.0018\n",
      "Epoch 27/30\n",
      "1563/1563 [==============================] - 65s 41ms/step - loss: 1.4351 - accuracy: 0.4924 - val_loss: 1.5303 - val_accuracy: 0.4550 - lr: 0.0020\n",
      "Epoch 28/30\n",
      "1563/1563 [==============================] - 64s 41ms/step - loss: 1.4631 - accuracy: 0.4803 - val_loss: 1.5277 - val_accuracy: 0.4692 - lr: 0.0022\n",
      "Epoch 29/30\n",
      "1563/1563 [==============================] - 62s 40ms/step - loss: 1.4917 - accuracy: 0.4749 - val_loss: 1.5861 - val_accuracy: 0.4262 - lr: 0.0025\n",
      "Epoch 30/30\n",
      "1563/1563 [==============================] - 63s 40ms/step - loss: 1.5196 - accuracy: 0.4628 - val_loss: 1.5927 - val_accuracy: 0.4453 - lr: 0.0028\n"
     ]
    }
   ],
   "source": [
    "# Build a model with increase hidden layers \n",
    "# set random seed \n",
    "tf.random.set_seed(42)\n",
    "\n",
    "# 1. create a model \n",
    "cifar_13 = tf.keras.Sequential([\n",
    "    tf.keras.layers.Flatten(input_shape = (32, 32, 3)), \n",
    "    tf.keras.layers.Dense(1000, activation = 'relu'),\n",
    "    tf.keras.layers.Dense(700, activation = 'relu'),\n",
    "    tf.keras.layers.Dense(500, activation = 'relu'),\n",
    "    tf.keras.layers.Dense(300, activation = 'relu'),\n",
    "    tf.keras.layers.Dense(10, activation = 'softmax'),\n",
    "]) \n",
    "\n",
    "# 2. compile the model \n",
    "cifar_13.compile(loss = tf.keras.losses.SparseCategoricalCrossentropy(), \n",
    "                optimizer = tf.keras.optimizers.Adam(), \n",
    "                metrics = ['accuracy'])\n",
    "\n",
    "# 3. find the ideal learning rate \n",
    "lr_scheduler = tf.keras.callbacks.LearningRateScheduler(lambda epoch: 1e-4 * 10**(epoch/20))\n",
    "\n",
    "# 3. fit the model \n",
    "history_c13 = cifar_13.fit(tf.expand_dims(X_train_norm, axis = -1), \n",
    "                         y_train, epochs = 30, \n",
    "                         validation_data = (X_test_norm, y_test), \n",
    "                         callbacks = [lr_scheduler])"
   ]
  },
  {
   "cell_type": "code",
   "execution_count": 88,
   "metadata": {
    "colab": {
     "base_uri": "https://localhost:8080/"
    },
    "id": "aqCoq8E7jtBy",
    "outputId": "436d6c4e-c6e6-4081-a0d4-4d66a49f377e"
   },
   "outputs": [
    {
     "name": "stdout",
     "output_type": "stream",
     "text": [
      "313/313 [==============================] - 6s 18ms/step - loss: 171.7491 - accuracy: 0.4301\n"
     ]
    },
    {
     "data": {
      "text/plain": [
       "[171.7490997314453, 0.4300999939441681]"
      ]
     },
     "execution_count": 88,
     "metadata": {},
     "output_type": "execute_result"
    }
   ],
   "source": [
    "cifar_13.evaluate(X_test, y_test)"
   ]
  },
  {
   "cell_type": "code",
   "execution_count": 46,
   "metadata": {
    "colab": {
     "base_uri": "https://localhost:8080/"
    },
    "id": "MCQxoBpR9uEH",
    "outputId": "d00883ca-89fb-4b7c-e5fe-78562f2172f4"
   },
   "outputs": [
    {
     "name": "stdout",
     "output_type": "stream",
     "text": [
      "Epoch 1/20\n",
      "1563/1563 [==============================] - 56s 35ms/step - loss: 1.8060 - accuracy: 0.3451 - val_loss: 1.6682 - val_accuracy: 0.4110 - lr: 1.0000e-04\n",
      "Epoch 2/20\n",
      "1563/1563 [==============================] - 53s 34ms/step - loss: 1.6120 - accuracy: 0.4228 - val_loss: 1.5403 - val_accuracy: 0.4467 - lr: 1.1220e-04\n",
      "Epoch 3/20\n",
      "1563/1563 [==============================] - 55s 35ms/step - loss: 1.5340 - accuracy: 0.4495 - val_loss: 1.5217 - val_accuracy: 0.4643 - lr: 1.2589e-04\n",
      "Epoch 4/20\n",
      "1563/1563 [==============================] - 53s 34ms/step - loss: 1.4770 - accuracy: 0.4715 - val_loss: 1.4945 - val_accuracy: 0.4703 - lr: 1.4125e-04\n",
      "Epoch 5/20\n",
      "1563/1563 [==============================] - 56s 36ms/step - loss: 1.4360 - accuracy: 0.4866 - val_loss: 1.4565 - val_accuracy: 0.4785 - lr: 1.5849e-04\n",
      "Epoch 6/20\n",
      "1563/1563 [==============================] - 55s 35ms/step - loss: 1.4007 - accuracy: 0.4997 - val_loss: 1.4248 - val_accuracy: 0.4936 - lr: 1.7783e-04\n",
      "Epoch 7/20\n",
      "1563/1563 [==============================] - 56s 36ms/step - loss: 1.3674 - accuracy: 0.5101 - val_loss: 1.3860 - val_accuracy: 0.5110 - lr: 1.9953e-04\n",
      "Epoch 8/20\n",
      "1563/1563 [==============================] - 53s 34ms/step - loss: 1.3405 - accuracy: 0.5219 - val_loss: 1.4147 - val_accuracy: 0.4956 - lr: 2.2387e-04\n",
      "Epoch 9/20\n",
      "1563/1563 [==============================] - 56s 36ms/step - loss: 1.3157 - accuracy: 0.5291 - val_loss: 1.4043 - val_accuracy: 0.4981 - lr: 2.5119e-04\n",
      "Epoch 10/20\n",
      "1563/1563 [==============================] - 53s 34ms/step - loss: 1.2921 - accuracy: 0.5375 - val_loss: 1.3658 - val_accuracy: 0.5128 - lr: 2.8184e-04\n",
      "Epoch 11/20\n",
      "1563/1563 [==============================] - 55s 35ms/step - loss: 1.2766 - accuracy: 0.5424 - val_loss: 1.4099 - val_accuracy: 0.4962 - lr: 3.1623e-04\n",
      "Epoch 12/20\n",
      "1563/1563 [==============================] - 56s 36ms/step - loss: 1.2553 - accuracy: 0.5493 - val_loss: 1.3908 - val_accuracy: 0.5076 - lr: 3.5481e-04\n",
      "Epoch 13/20\n",
      "1563/1563 [==============================] - 55s 35ms/step - loss: 1.2420 - accuracy: 0.5564 - val_loss: 1.3820 - val_accuracy: 0.5153 - lr: 3.9811e-04\n",
      "Epoch 14/20\n",
      "1563/1563 [==============================] - 52s 34ms/step - loss: 1.2305 - accuracy: 0.5587 - val_loss: 1.4079 - val_accuracy: 0.5090 - lr: 4.4668e-04\n",
      "Epoch 15/20\n",
      "1563/1563 [==============================] - 53s 34ms/step - loss: 1.2265 - accuracy: 0.5609 - val_loss: 1.4282 - val_accuracy: 0.5007 - lr: 5.0119e-04\n",
      "Epoch 16/20\n",
      "1563/1563 [==============================] - 54s 34ms/step - loss: 1.2198 - accuracy: 0.5624 - val_loss: 1.4142 - val_accuracy: 0.5121 - lr: 5.6234e-04\n",
      "Epoch 17/20\n",
      "1563/1563 [==============================] - 55s 35ms/step - loss: 1.2255 - accuracy: 0.5602 - val_loss: 1.4457 - val_accuracy: 0.5085 - lr: 6.3096e-04\n",
      "Epoch 18/20\n",
      "1563/1563 [==============================] - 54s 35ms/step - loss: 1.2277 - accuracy: 0.5604 - val_loss: 1.4725 - val_accuracy: 0.4891 - lr: 7.0795e-04\n",
      "Epoch 19/20\n",
      "1563/1563 [==============================] - 55s 35ms/step - loss: 1.2401 - accuracy: 0.5583 - val_loss: 1.5072 - val_accuracy: 0.4833 - lr: 7.9433e-04\n",
      "Epoch 20/20\n",
      "1563/1563 [==============================] - 53s 34ms/step - loss: 1.2585 - accuracy: 0.5488 - val_loss: 1.5345 - val_accuracy: 0.4701 - lr: 8.9125e-04\n"
     ]
    }
   ],
   "source": [
    "# Build a model with increase hidden layers \n",
    "# set random seed \n",
    "tf.random.set_seed(42)\n",
    "\n",
    "# 1. create a model \n",
    "cifar_14 = tf.keras.Sequential([\n",
    "    tf.keras.layers.Flatten(input_shape = (32, 32, 3)), \n",
    "    tf.keras.layers.Dense(800, activation = 'relu'),\n",
    "    tf.keras.layers.Dense(600, activation = 'relu'),\n",
    "    tf.keras.layers.Dense(500, activation = 'relu'),\n",
    "    tf.keras.layers.Dense(400, activation = 'relu'), \n",
    "    tf.keras.layers.Dense(300, activation = 'relu'),\n",
    "    tf.keras.layers.Dense(10, activation = 'softmax'),\n",
    "]) \n",
    "\n",
    "# 2. compile the model \n",
    "cifar_14.compile(loss = tf.keras.losses.SparseCategoricalCrossentropy(), \n",
    "                optimizer = tf.keras.optimizers.Adam(), \n",
    "                metrics = ['accuracy'])\n",
    "\n",
    "# 3. find the ideal learning rate \n",
    "lr_scheduler = tf.keras.callbacks.LearningRateScheduler(lambda epoch: 1e-4 * 10**(epoch/20))\n",
    "\n",
    "# 3. fit the model \n",
    "history_c14 = cifar_14.fit(tf.expand_dims(X_train_norm, axis = -1), \n",
    "                         y_train, epochs = 20, \n",
    "                         validation_data = (X_test_norm, y_test), \n",
    "                         callbacks = [lr_scheduler])"
   ]
  },
  {
   "cell_type": "code",
   "execution_count": 87,
   "metadata": {
    "colab": {
     "base_uri": "https://localhost:8080/"
    },
    "id": "Lql0-OKOjdB0",
    "outputId": "d5dea1c9-3980-44ae-abc4-b40d35dcfb36"
   },
   "outputs": [
    {
     "name": "stdout",
     "output_type": "stream",
     "text": [
      "313/313 [==============================] - 6s 19ms/step - loss: 194.2562 - accuracy: 0.4349\n"
     ]
    },
    {
     "data": {
      "text/plain": [
       "[194.25619506835938, 0.4348999857902527]"
      ]
     },
     "execution_count": 87,
     "metadata": {},
     "output_type": "execute_result"
    }
   ],
   "source": [
    "cifar_14.evaluate(X_test, y_test)"
   ]
  },
  {
   "cell_type": "markdown",
   "metadata": {
    "id": "RSVGtJ5EZUBT"
   },
   "source": [
    "Guidelines to determining the number of Hidden layers and Neurons \n",
    "\n",
    "> 1. The number of hidden neurons should be between the size of the output layer and the size of the input layer. \n",
    "\n",
    "> 2. The number of hidden neurons should 2/3 of the size of the input layer, plus the size of the output layer. \n",
    "\n",
    "> 3. The number of hidden neurons should be less than 2 times the size of the input layer. \n",
    "\n",
    "> 4. In classification problems, increase the number of neurons in the first layer, and then gradually decrease it. \n",
    "\n",
    "I applied guideline 2 and 4. \n",
    "\n",
    "**NOTE:** These are guidelines that have been tested through research but you still have to experiment to find the one that works for your specific problem statement. "
   ]
  },
  {
   "cell_type": "code",
   "execution_count": 58,
   "metadata": {
    "colab": {
     "base_uri": "https://localhost:8080/"
    },
    "id": "uPblbAegbpjp",
    "outputId": "35d803ea-2cb9-4f32-9d66-b57fd57b0942"
   },
   "outputs": [
    {
     "data": {
      "text/plain": [
       "(32, 32, 3)"
      ]
     },
     "execution_count": 58,
     "metadata": {},
     "output_type": "execute_result"
    }
   ],
   "source": [
    "# input shape for the input layer\n",
    "input_shape = X_train[0].shape \n",
    "input_shape"
   ]
  },
  {
   "cell_type": "code",
   "execution_count": 57,
   "metadata": {
    "colab": {
     "base_uri": "https://localhost:8080/"
    },
    "id": "LTPWWf-DbXWU",
    "outputId": "c7094490-3df2-4f97-d134-cc84ca0190f7"
   },
   "outputs": [
    {
     "data": {
      "text/plain": [
       "3072"
      ]
     },
     "execution_count": 57,
     "metadata": {},
     "output_type": "execute_result"
    }
   ],
   "source": [
    "# input size for the input layer\n",
    "input_size = X_train[0].size \n",
    "input_size"
   ]
  },
  {
   "cell_type": "code",
   "execution_count": 59,
   "metadata": {
    "colab": {
     "base_uri": "https://localhost:8080/"
    },
    "id": "6d8skdY_bwyL",
    "outputId": "58b794b0-3e67-4a8f-a37c-d8218995fe35"
   },
   "outputs": [
    {
     "data": {
      "text/plain": [
       "10"
      ]
     },
     "execution_count": 59,
     "metadata": {},
     "output_type": "execute_result"
    }
   ],
   "source": [
    "# output size for the input layer \n",
    "# the number of categories in the output feature\n",
    "output_size = len(class_names) \n",
    "output_size"
   ]
  },
  {
   "cell_type": "code",
   "execution_count": 60,
   "metadata": {
    "colab": {
     "base_uri": "https://localhost:8080/"
    },
    "id": "swwxDAZhcB0I",
    "outputId": "703618e2-a72b-48f9-c2d5-96a84d57cb96"
   },
   "outputs": [
    {
     "data": {
      "text/plain": [
       "2058.0"
      ]
     },
     "execution_count": 60,
     "metadata": {},
     "output_type": "execute_result"
    }
   ],
   "source": [
    "# hidden layer size based on guideline 2 \n",
    "hidden_size = (2/3 * input_size) + output_size\n",
    "hidden_size"
   ]
  },
  {
   "cell_type": "code",
   "execution_count": 54,
   "metadata": {
    "colab": {
     "base_uri": "https://localhost:8080/"
    },
    "id": "I2WrRUHMFg9u",
    "outputId": "cbb2923a-ec8b-4a13-a281-26e2dc178b9b"
   },
   "outputs": [
    {
     "name": "stdout",
     "output_type": "stream",
     "text": [
      "Epoch 1/15\n",
      "1563/1563 [==============================] - 59s 38ms/step - loss: 1.8109 - accuracy: 0.3498 - val_loss: 1.6699 - val_accuracy: 0.4065 - lr: 1.0000e-04\n",
      "Epoch 2/15\n",
      "1563/1563 [==============================] - 58s 37ms/step - loss: 1.6232 - accuracy: 0.4206 - val_loss: 1.5580 - val_accuracy: 0.4424 - lr: 1.1220e-04\n",
      "Epoch 3/15\n",
      "1563/1563 [==============================] - 60s 38ms/step - loss: 1.5396 - accuracy: 0.4507 - val_loss: 1.5378 - val_accuracy: 0.4612 - lr: 1.2589e-04\n",
      "Epoch 4/15\n",
      "1563/1563 [==============================] - 58s 37ms/step - loss: 1.4848 - accuracy: 0.4689 - val_loss: 1.4895 - val_accuracy: 0.4675 - lr: 1.4125e-04\n",
      "Epoch 5/15\n",
      "1563/1563 [==============================] - 59s 38ms/step - loss: 1.4405 - accuracy: 0.4873 - val_loss: 1.4745 - val_accuracy: 0.4729 - lr: 1.5849e-04\n",
      "Epoch 6/15\n",
      "1563/1563 [==============================] - 57s 37ms/step - loss: 1.4053 - accuracy: 0.4967 - val_loss: 1.4251 - val_accuracy: 0.4900 - lr: 1.7783e-04\n",
      "Epoch 7/15\n",
      "1563/1563 [==============================] - 59s 38ms/step - loss: 1.3705 - accuracy: 0.5107 - val_loss: 1.4289 - val_accuracy: 0.4925 - lr: 1.9953e-04\n",
      "Epoch 8/15\n",
      "1563/1563 [==============================] - 58s 37ms/step - loss: 1.3451 - accuracy: 0.5209 - val_loss: 1.4103 - val_accuracy: 0.4987 - lr: 2.2387e-04\n",
      "Epoch 9/15\n",
      "1563/1563 [==============================] - 59s 38ms/step - loss: 1.3206 - accuracy: 0.5278 - val_loss: 1.3946 - val_accuracy: 0.5055 - lr: 2.5119e-04\n",
      "Epoch 10/15\n",
      "1563/1563 [==============================] - 57s 37ms/step - loss: 1.2934 - accuracy: 0.5369 - val_loss: 1.3985 - val_accuracy: 0.5047 - lr: 2.8184e-04\n",
      "Epoch 11/15\n",
      "1563/1563 [==============================] - 58s 37ms/step - loss: 1.2719 - accuracy: 0.5453 - val_loss: 1.3804 - val_accuracy: 0.5100 - lr: 3.1623e-04\n",
      "Epoch 12/15\n",
      "1563/1563 [==============================] - 57s 37ms/step - loss: 1.2542 - accuracy: 0.5516 - val_loss: 1.4205 - val_accuracy: 0.5004 - lr: 3.5481e-04\n",
      "Epoch 13/15\n",
      "1563/1563 [==============================] - 61s 39ms/step - loss: 1.2425 - accuracy: 0.5549 - val_loss: 1.3619 - val_accuracy: 0.5159 - lr: 3.9811e-04\n",
      "Epoch 14/15\n",
      "1563/1563 [==============================] - 58s 37ms/step - loss: 1.2315 - accuracy: 0.5569 - val_loss: 1.4506 - val_accuracy: 0.4879 - lr: 4.4668e-04\n",
      "Epoch 15/15\n",
      "1563/1563 [==============================] - 59s 38ms/step - loss: 1.2252 - accuracy: 0.5591 - val_loss: 1.3803 - val_accuracy: 0.5065 - lr: 5.0119e-04\n"
     ]
    }
   ],
   "source": [
    "# Build a model with increase hidden layers \n",
    "# set random seed \n",
    "tf.random.set_seed(42)\n",
    "\n",
    "# 1. create a model \n",
    "cifar_15 = tf.keras.Sequential([\n",
    "    tf.keras.layers.Flatten(input_shape = (32, 32, 3)), \n",
    "    tf.keras.layers.Dense(1000, activation = 'relu'),\n",
    "    tf.keras.layers.Dense(600, activation = 'relu'),\n",
    "    tf.keras.layers.Dense(300, activation = 'relu'),\n",
    "    tf.keras.layers.Dense(200, activation = 'relu'),\n",
    "    tf.keras.layers.Dense(10, activation = 'softmax'),\n",
    "]) \n",
    "\n",
    "# 2. compile the model \n",
    "cifar_15.compile(loss = tf.keras.losses.SparseCategoricalCrossentropy(), \n",
    "                optimizer = tf.keras.optimizers.Adam(), \n",
    "                metrics = ['accuracy'])\n",
    "\n",
    "# 3. find the ideal learning rate \n",
    "lr_scheduler = tf.keras.callbacks.LearningRateScheduler(lambda epoch: 1e-4 * 10**(epoch/20))\n",
    "\n",
    "# 3. fit the model \n",
    "history_c15 = cifar_15.fit(tf.expand_dims(X_train_norm, axis = -1), \n",
    "                         y_train, epochs = 15, \n",
    "                         validation_data = (X_test_norm, y_test), \n",
    "                         callbacks = [lr_scheduler])"
   ]
  },
  {
   "cell_type": "markdown",
   "metadata": {
    "id": "u6j3H6c9ikU1"
   },
   "source": [
    "### Model Summary"
   ]
  },
  {
   "cell_type": "code",
   "execution_count": 86,
   "metadata": {
    "colab": {
     "base_uri": "https://localhost:8080/"
    },
    "id": "9ehWdFQfig5f",
    "outputId": "fc79918c-f12e-4680-f8d1-155c59fd4e18"
   },
   "outputs": [
    {
     "name": "stdout",
     "output_type": "stream",
     "text": [
      "Model: \"sequential_9\"\n",
      "_________________________________________________________________\n",
      " Layer (type)                Output Shape              Param #   \n",
      "=================================================================\n",
      " flatten_9 (Flatten)         (None, 3072)              0         \n",
      "                                                                 \n",
      " dense_48 (Dense)            (None, 1000)              3073000   \n",
      "                                                                 \n",
      " dense_49 (Dense)            (None, 600)               600600    \n",
      "                                                                 \n",
      " dense_50 (Dense)            (None, 300)               180300    \n",
      "                                                                 \n",
      " dense_51 (Dense)            (None, 200)               60200     \n",
      "                                                                 \n",
      " dense_52 (Dense)            (None, 10)                2010      \n",
      "                                                                 \n",
      "=================================================================\n",
      "Total params: 3,916,110\n",
      "Trainable params: 3,916,110\n",
      "Non-trainable params: 0\n",
      "_________________________________________________________________\n"
     ]
    }
   ],
   "source": [
    "# model summary\n",
    "cifar_15.summary()"
   ]
  },
  {
   "cell_type": "markdown",
   "metadata": {
    "id": "MDR9j0ZEirmE"
   },
   "source": [
    "### Loss and Accuracy score"
   ]
  },
  {
   "cell_type": "code",
   "execution_count": 70,
   "metadata": {
    "colab": {
     "base_uri": "https://localhost:8080/",
     "height": 330
    },
    "id": "hERIgJTtfRr_",
    "outputId": "b0c745a6-4074-4063-c9d2-06f9c5df661c"
   },
   "outputs": [
    {
     "data": {
      "text/plain": [
       "<matplotlib.axes._subplots.AxesSubplot at 0x7f0af9dec040>"
      ]
     },
     "execution_count": 70,
     "metadata": {},
     "output_type": "execute_result"
    },
    {
     "data": {
      "text/plain": [
       "<Figure size 576x360 with 0 Axes>"
      ]
     },
     "metadata": {},
     "output_type": "display_data"
    },
    {
     "data": {
      "image/png": "[encoded data removed]",
      "text/plain": [
       "<Figure size 432x288 with 1 Axes>"
      ]
     },
     "metadata": {
      "needs_background": "light"
     },
     "output_type": "display_data"
    }
   ],
   "source": [
    "import pandas as pd \n",
    "plt.figure(figsize = (8, 5))\n",
    "pd.DataFrame(history_c15.history).plot(title = 'Loss and Accuracy curve', \n",
    "                                       xlabel = 'Epochs', \n",
    "                                       ylabel = 'Frequency')"
   ]
  },
  {
   "cell_type": "markdown",
   "metadata": {
    "id": "C5vh_7ESd-Dn"
   },
   "source": [
    "### Evaluate the model"
   ]
  },
  {
   "cell_type": "code",
   "execution_count": 56,
   "metadata": {
    "colab": {
     "base_uri": "https://localhost:8080/"
    },
    "id": "VrVEMBwXOOgO",
    "outputId": "07c66e8c-5fb6-4d82-8869-2c54ddf5fcd7"
   },
   "outputs": [
    {
     "name": "stdout",
     "output_type": "stream",
     "text": [
      "313/313 [==============================] - 4s 13ms/step - loss: 1.3803 - accuracy: 0.5065\n"
     ]
    },
    {
     "data": {
      "text/plain": [
       "[1.3802822828292847, 0.5065000057220459]"
      ]
     },
     "execution_count": 56,
     "metadata": {},
     "output_type": "execute_result"
    }
   ],
   "source": [
    "# evaluate\n",
    "cifar_15.evaluate(X_test_norm, y_test)"
   ]
  },
  {
   "cell_type": "markdown",
   "metadata": {
    "id": "GpoLFApveEeQ"
   },
   "source": [
    "### predict unseen data \n"
   ]
  },
  {
   "cell_type": "code",
   "execution_count": 62,
   "metadata": {
    "colab": {
     "base_uri": "https://localhost:8080/"
    },
    "id": "Jdemfr1XQbb8",
    "outputId": "92fa9be2-bed5-4c5a-b988-579aea17705d"
   },
   "outputs": [
    {
     "name": "stdout",
     "output_type": "stream",
     "text": [
      "313/313 [==============================] - 4s 14ms/step\n"
     ]
    },
    {
     "data": {
      "text/plain": [
       "array([0.0256105 , 0.1349701 , 0.12286147, 0.17664318, 0.12896363,\n",
       "       0.06927995, 0.00349375, 0.03478113, 0.26302117, 0.04037523],\n",
       "      dtype=float32)"
      ]
     },
     "execution_count": 62,
     "metadata": {},
     "output_type": "execute_result"
    }
   ],
   "source": [
    "# predict\n",
    "Y_probs = cifar_15.predict(X_test_norm)\n",
    "y_probs[0]"
   ]
  },
  {
   "cell_type": "markdown",
   "metadata": {
    "id": "4T2emmVqeaqP"
   },
   "source": [
    "- the probabilities for each class prediction was given"
   ]
  },
  {
   "cell_type": "code",
   "execution_count": 64,
   "metadata": {
    "colab": {
     "base_uri": "https://localhost:8080/"
    },
    "id": "oykuvqI4epwR",
    "outputId": "d10dc514-a424-45c5-bd41-8e31a52a9571"
   },
   "outputs": [
    {
     "data": {
      "text/plain": [
       "<tf.Tensor: shape=(10,), dtype=int64, numpy=array([8, 8, 8, 8, 6, 6, 1, 6, 5, 1])>"
      ]
     },
     "execution_count": 64,
     "metadata": {},
     "output_type": "execute_result"
    }
   ],
   "source": [
    "### Find the class with the highest prediction probabilities \n",
    "y_pred = tf.argmax(y_probs, axis = 1)\n",
    "y_pred[:10]"
   ]
  },
  {
   "cell_type": "markdown",
   "metadata": {
    "id": "rud4xwzQgp_M"
   },
   "source": [
    "### Confusion matrix "
   ]
  },
  {
   "cell_type": "code",
   "execution_count": 77,
   "metadata": {
    "colab": {
     "base_uri": "https://localhost:8080/"
    },
    "id": "PdNT1jpZfAWQ",
    "outputId": "f91e24ae-cbcc-40c8-8f9c-f36f601377c1"
   },
   "outputs": [
    {
     "data": {
      "text/plain": [
       "array([[430,  25, 129,  28,  23,  12,  24,  19, 268,  42],\n",
       "       [ 23, 540,  11,  23,   9,  14,  13,  16, 159, 192],\n",
       "       [ 35,  13, 491,  95,  94,  55, 106,  35,  53,  23],\n",
       "       [ 14,  14, 111, 369,  58, 146, 139,  37,  65,  47],\n",
       "       [ 32,  11, 238,  78, 357,  28, 131,  43,  64,  18],\n",
       "       [ 12,  11, 102, 264,  51, 304, 111,  45,  74,  26],\n",
       "       [  3,  13, 127,  82,  77,  26, 612,  18,  17,  25],\n",
       "       [ 20,  12,  98,  81, 103,  69,  45, 483,  40,  49],\n",
       "       [ 49,  37,  18,  23,  20,   5,  11,   8, 796,  33],\n",
       "       [ 26, 100,  15,  39,  16,   8,  26,  33, 153, 584]])"
      ]
     },
     "execution_count": 77,
     "metadata": {},
     "output_type": "execute_result"
    }
   ],
   "source": [
    "# import confusion matrix and classification_report\n",
    "from sklearn.metrics import confusion_matrix, classification_report\n",
    "\n",
    "# confusion matrix\n",
    "confusion_matrix(y_test, y_pred)"
   ]
  },
  {
   "cell_type": "markdown",
   "metadata": {
    "id": "5Dzn514-ix9c"
   },
   "source": [
    "### Prettified Confusion Matrix"
   ]
  },
  {
   "cell_type": "code",
   "execution_count": 75,
   "metadata": {
    "colab": {
     "base_uri": "https://localhost:8080/",
     "height": 500
    },
    "id": "oCSPvK0vgyOp",
    "outputId": "e97c89be-dec4-495e-8f23-420880b82bce"
   },
   "outputs": [
    {
     "data": {
      "text/plain": [
       "<matplotlib.axes._subplots.AxesSubplot at 0x7f0af9de0fd0>"
      ]
     },
     "execution_count": 75,
     "metadata": {},
     "output_type": "execute_result"
    },
    {
     "data": {
      "image/png": "[encoded data removed]",
      "text/plain": [
       "<Figure size 576x576 with 2 Axes>"
      ]
     },
     "metadata": {
      "needs_background": "light"
     },
     "output_type": "display_data"
    }
   ],
   "source": [
    "# import seaborn \n",
    "import seaborn as sns \n",
    "plt.figure(figsize = (8, 8))\n",
    "\n",
    "# heatmap\n",
    "sns.heatmap(confusion_matrix(y_test, y_pred), \n",
    "            annot = True, fmt = 'd', linewidth = 3)"
   ]
  },
  {
   "cell_type": "code",
   "execution_count": 76,
   "metadata": {
    "colab": {
     "base_uri": "https://localhost:8080/"
    },
    "id": "yfPFVqZFgsko",
    "outputId": "d1fafa10-17e7-4aad-a09d-116794db072b"
   },
   "outputs": [
    {
     "name": "stdout",
     "output_type": "stream",
     "text": [
      "              precision    recall  f1-score   support\n",
      "\n",
      "           0       0.67      0.43      0.52      1000\n",
      "           1       0.70      0.54      0.61      1000\n",
      "           2       0.37      0.49      0.42      1000\n",
      "           3       0.34      0.37      0.35      1000\n",
      "           4       0.44      0.36      0.39      1000\n",
      "           5       0.46      0.30      0.36      1000\n",
      "           6       0.50      0.61      0.55      1000\n",
      "           7       0.66      0.48      0.56      1000\n",
      "           8       0.47      0.80      0.59      1000\n",
      "           9       0.56      0.58      0.57      1000\n",
      "\n",
      "    accuracy                           0.50     10000\n",
      "   macro avg       0.52      0.50      0.49     10000\n",
      "weighted avg       0.52      0.50      0.49     10000\n",
      "\n"
     ]
    }
   ],
   "source": [
    "# Precision, recall, f1-score\n",
    "print(classification_report(y_test, y_pred))"
   ]
  },
  {
   "cell_type": "markdown",
   "metadata": {
    "id": "BN8wdNs6i6EP"
   },
   "source": [
    "### Image prediction plot"
   ]
  },
  {
   "cell_type": "code",
   "execution_count": 83,
   "metadata": {
    "id": "0BlZSpt8hFB9"
   },
   "outputs": [],
   "source": [
    "import random \n",
    "\n",
    "def plot_random_image(model, images, true_labels, classes): \n",
    "  '''\n",
    "  picks a random image, plots it and labels it with a prediction and truth label\n",
    "  ''' \n",
    "  # set up random integer \n",
    "  i = random.randint(0, len(images)) \n",
    "\n",
    "  # create predictions and target\n",
    "  target_image = images[i]\n",
    "  pred_probs = model.predict(target_image.reshape(32, 32, 3))\n",
    "  pred_label = classes[pred_probs.argmax()]\n",
    "  true_label = classes[true_labels[i][0]]\n",
    "\n",
    "  # plot the image \n",
    "  plt.imshow(target_image, cmap = plt.cm.binary)\n",
    "\n",
    "  # change the color of the titles depending on if the prediction is right or worng \n",
    "  if pred_label == true_label:\n",
    "    color = 'green'\n",
    "  else: \n",
    "    color = 'red'\n",
    "\n",
    "  # add xlabel information (prediction/true label)\n",
    "  plt.xlabel('Pred: {} {:2.0f}% (True: {})'.format(pred_label, \n",
    "                                                   100*tf.reduce_max(pred_probs),\n",
    "                                                   true_label), \n",
    "             color = color)"
   ]
  },
  {
   "cell_type": "code",
   "execution_count": 85,
   "metadata": {
    "colab": {
     "base_uri": "https://localhost:8080/",
     "height": 297
    },
    "id": "QpP9LNb5hpQx",
    "outputId": "0e422804-98b1-4bfe-839d-17bf5072b2eb"
   },
   "outputs": [
    {
     "name": "stdout",
     "output_type": "stream",
     "text": [
      "1/1 [==============================] - 0s 22ms/step\n"
     ]
    },
    {
     "data": {
      "image/png": "[encoded data removed]",
      "text/plain": [
       "<Figure size 432x288 with 1 Axes>"
      ]
     },
     "metadata": {
      "needs_background": "light"
     },
     "output_type": "display_data"
    }
   ],
   "source": [
    "# check out a random image as well as it's prediction \n",
    "plot_random_image(cifar_15, X_test_norm, \n",
    "                  y_test, class_names)\n",
    "     "
   ]
  },
  {
   "cell_type": "markdown",
   "metadata": {
    "id": "8w5tEDzVhyyi"
   },
   "source": [
    "### Save model"
   ]
  },
  {
   "cell_type": "code",
   "execution_count": 89,
   "metadata": {
    "id": "yzQtwo70kK2U"
   },
   "outputs": [],
   "source": [
    "# save model .h5 format\n",
    "cifar_15.save('Cifar_multiclass_model.h5')"
   ]
  },
  {
   "cell_type": "code",
   "execution_count": null,
   "metadata": {
    "id": "vijP4KkLkV2U"
   },
   "outputs": [],
   "source": []
  }
 ],
 "metadata": {
  "colab": {
   "provenance": []
  },
  "kernelspec": {
   "display_name": "Python 3 (ipykernel)",
   "language": "python",
   "name": "python3"
  },
  "language_info": {
   "codemirror_mode": {
    "name": "ipython",
    "version": 3
   },
   "file_extension": ".py",
   "mimetype": "text/x-python",
   "name": "python",
   "nbconvert_exporter": "python",
   "pygments_lexer": "ipython3",
   "version": "3.9.13"
  }
 },
 "nbformat": 4,
 "nbformat_minor": 1
}
